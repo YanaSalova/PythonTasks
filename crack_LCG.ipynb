{
  "nbformat": 4,
  "nbformat_minor": 0,
  "metadata": {
    "colab": {
      "provenance": [],
      "authorship_tag": "ABX9TyPiPTGSCRH9eZouyEtLJsZz",
      "include_colab_link": true
    },
    "kernelspec": {
      "name": "python3",
      "display_name": "Python 3"
    },
    "language_info": {
      "name": "python"
    }
  },
  "cells": [
    {
      "cell_type": "markdown",
      "metadata": {
        "id": "view-in-github",
        "colab_type": "text"
      },
      "source": [
        "<a href=\"https://colab.research.google.com/github/YanaSalova/PythonTasks/blob/main/crack_LCG.ipynb\" target=\"_parent\"><img src=\"https://colab.research.google.com/assets/colab-badge.svg\" alt=\"Open In Colab\"/></a>"
      ]
    },
    {
      "cell_type": "code",
      "source": [
        "from functools import reduce\n",
        "import math"
      ],
      "metadata": {
        "id": "hi3yi7HkFP2m"
      },
      "execution_count": null,
      "outputs": []
    },
    {
      "cell_type": "code",
      "execution_count": null,
      "metadata": {
        "id": "QVfyeWgjv3Ry"
      },
      "outputs": [],
      "source": [
        "# Реализация расширенного алгоритма Евклида (ax + by = gcd(a, b))\n",
        "def egcd(a, b):\n",
        "    if a == 0:\n",
        "        return b, 0, 1\n",
        "    else:\n",
        "        gsd, x, y = egcd(b % a, a)\n",
        "        return gsd, y - (b // a) * x, x"
      ]
    },
    {
      "cell_type": "code",
      "source": [
        "# Функция для вычисления мультипликативного обратного --- находит обратный элемент x для числа b по модулю n.\n",
        "def modinv(b, n):\n",
        "    gsd, x, _ = egcd(b, n)\n",
        "    if gsd == 1:\n",
        "        return x % n"
      ],
      "metadata": {
        "id": "0KjLupWAyA4x"
      },
      "execution_count": null,
      "outputs": []
    },
    {
      "cell_type": "code",
      "source": [
        "# Функция для подбора неизвестного приращения\n",
        "def increment_С (array, modulus, multiplier):\n",
        "    increment = (array[1] - array[0] * multiplier) % modulus\n",
        "    return increment"
      ],
      "metadata": {
        "id": "_xQLud5d5aOy"
      },
      "execution_count": null,
      "outputs": []
    },
    {
      "cell_type": "code",
      "source": [
        "# Функция для подбора неизвестного множителя\n",
        "def multiplier_A (array, modulus):\n",
        "    multiplier = (array[2] - array[1]) * modinv(array[1] - array[0], modulus) % modulus\n",
        "    return multiplier"
      ],
      "metadata": {
        "id": "NumfBsS3ztrS"
      },
      "execution_count": null,
      "outputs": []
    },
    {
      "cell_type": "code",
      "source": [
        "# Функция для подбора неизвестного модуля\n",
        "def modulus_M (array):\n",
        "    diffs = [s1 - s0 for s0, s1 in zip(array, array[1:])]\n",
        "    zeroes = [int(t2 * t0 - t1 * t1 ) for t0, t1, t2 in zip(diffs, diffs[1:], diffs[2:])]\n",
        "    modulus = reduce(math.gcd, zeroes)\n",
        "    return modulus\n"
      ],
      "metadata": {
        "id": "bZs_ing65nU7"
      },
      "execution_count": null,
      "outputs": []
    },
    {
      "cell_type": "markdown",
      "source": [
        "Читаем числа из файла в массив:"
      ],
      "metadata": {
        "id": "QdBBNpvzTu8i"
      }
    },
    {
      "cell_type": "code",
      "source": [
        "import numpy as np\n",
        "data = np.loadtxt('lcg_seq_2023.txt', dtype=np.int64)"
      ],
      "metadata": {
        "id": "8HGApooBCDqd"
      },
      "execution_count": null,
      "outputs": []
    },
    {
      "cell_type": "code",
      "source": [
        "M = modulus_M(data)\n",
        "A = multiplier_A(data, M)\n",
        "C = increment_С(data, M, A)\n",
        "print(\"M =\", M, \"  A =\", A, \"  C =\", C)"
      ],
      "metadata": {
        "colab": {
          "base_uri": "https://localhost:8080/"
        },
        "id": "EvTZzkJDDdNg",
        "outputId": "b353e74f-ebcb-4721-a413-86562ad4e508"
      },
      "execution_count": null,
      "outputs": [
        {
          "output_type": "stream",
          "name": "stdout",
          "text": [
            "M = 536870912   A = 30000005   C = 7373737\n"
          ]
        }
      ]
    },
    {
      "cell_type": "code",
      "source": [],
      "metadata": {
        "id": "1FGLvvGHDpE1"
      },
      "execution_count": null,
      "outputs": []
    }
  ]
}