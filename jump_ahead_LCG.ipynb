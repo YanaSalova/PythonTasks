{
  "nbformat": 4,
  "nbformat_minor": 0,
  "metadata": {
    "colab": {
      "provenance": [],
      "authorship_tag": "ABX9TyN+VGPRrBUIhQdTdAz/H2jf",
      "include_colab_link": true
    },
    "kernelspec": {
      "name": "python3",
      "display_name": "Python 3"
    },
    "language_info": {
      "name": "python"
    }
  },
  "cells": [
    {
      "cell_type": "markdown",
      "metadata": {
        "id": "view-in-github",
        "colab_type": "text"
      },
      "source": [
        "<a href=\"https://colab.research.google.com/github/YanaSalova/PythonTasks/blob/main/jump_ahead_LCG.ipynb\" target=\"_parent\"><img src=\"https://colab.research.google.com/assets/colab-badge.svg\" alt=\"Open In Colab\"/></a>"
      ]
    },
    {
      "cell_type": "code",
      "source": [
        "import numpy as np"
      ],
      "metadata": {
        "id": "bk_sJzNFxVcl"
      },
      "execution_count": null,
      "outputs": []
    },
    {
      "cell_type": "code",
      "source": [
        "A=80000007\n",
        "C=500005\n",
        "M=123424321\n",
        "seed = 1"
      ],
      "metadata": {
        "id": "0UFAx1Z7bynv"
      },
      "execution_count": null,
      "outputs": []
    },
    {
      "cell_type": "code",
      "source": [
        "def NextElement(element):\n",
        "    next_element = (A * element + C) % M\n",
        "    return  next_element"
      ],
      "metadata": {
        "id": "8L5YJGkNbSxJ"
      },
      "execution_count": null,
      "outputs": []
    },
    {
      "cell_type": "code",
      "source": [
        "def MatrixQuickPower(matrix, i):\n",
        "      result = np.eye(2)\n",
        "      while i > 0:\n",
        "        if i % 2 == 1:\n",
        "          result = result * matrix % M\n",
        "        matrix = matrix * matrix % M\n",
        "        i = i // 2\n",
        "      return result"
      ],
      "metadata": {
        "id": "XpWgAuVfbTdS"
      },
      "execution_count": null,
      "outputs": []
    },
    {
      "cell_type": "code",
      "source": [
        "def Jump_ahead(element,  i):\n",
        "        matrix = np.matrix([(A, C), (0, 1)])\n",
        "        matrix = MatrixQuickPower(matrix, i)\n",
        "        element = (matrix[0, 0] * seed + matrix[0, 1]) % M\n",
        "        return element\n",
        "\n"
      ],
      "metadata": {
        "id": "dueVjzFnxVms"
      },
      "execution_count": null,
      "outputs": []
    },
    {
      "cell_type": "code",
      "source": [
        "    import time\n",
        "    start_time = time.time()\n",
        "\n",
        "    element = seed\n",
        "    i = 1000000\n",
        "\n",
        "    for j in range(i):\n",
        "          element = NextElement(element)\n",
        "    print(\"Result without jump-ahead:\", element)\n",
        "    print(\"--- %s seconds ---\" % (time.time() - start_time))"
      ],
      "metadata": {
        "colab": {
          "base_uri": "https://localhost:8080/"
        },
        "id": "2-5jom_ZfXvV",
        "outputId": "850cb7ea-3cd1-4708-ca4a-f71938f47200"
      },
      "execution_count": null,
      "outputs": [
        {
          "output_type": "stream",
          "name": "stdout",
          "text": [
            "Result without jump-ahead: 54280670\n",
            "--- 0.35048437118530273 seconds ---\n"
          ]
        }
      ]
    },
    {
      "cell_type": "code",
      "source": [
        "    import time\n",
        "    start_time = time.time()\n",
        "    element = seed\n",
        "    print(\"Result with jump-ahead:\", Jump_ahead(element, i))\n",
        "    print(\"--- %s seconds ---\" % (time.time() - start_time))"
      ],
      "metadata": {
        "colab": {
          "base_uri": "https://localhost:8080/"
        },
        "id": "nsPhLx94jEd4",
        "outputId": "f16f70f5-4c68-46d7-c6bd-62479b64de9f"
      },
      "execution_count": null,
      "outputs": [
        {
          "output_type": "stream",
          "name": "stdout",
          "text": [
            "Result with jump-ahead: 54280670.0\n",
            "--- 0.002388477325439453 seconds ---\n"
          ]
        }
      ]
    },
    {
      "cell_type": "code",
      "source": [],
      "metadata": {
        "id": "J5Y_tKArfyR5"
      },
      "execution_count": null,
      "outputs": []
    }
  ]
}